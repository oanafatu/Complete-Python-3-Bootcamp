{
 "cells": [
  {
   "cell_type": "code",
   "execution_count": null,
   "metadata": {},
   "outputs": [],
   "source": [
    "from random import randint\n",
    "random_num = randint(1, 100)\n",
    "num = 0\n",
    "my_list=[]\n",
    "while num != random_num:\n",
    "    num = int(input('what is your guess: '))\n",
    "    if (num < 0 or num > 100): \n",
    "        print('OUT OF BOUNDS')\n",
    "    if (abs(num-random_num) <= 10):\n",
    "        print('WARM!')\n",
    "    else:\n",
    "        print('COLD!')\n",
    "    my_list.append(num)\n",
    "    \n",
    "print (f'You guessed the number {random_num}. It took you {len(my_list)} guesses')"
   ]
  },
  {
   "cell_type": "code",
   "execution_count": 4,
   "metadata": {},
   "outputs": [
    {
     "name": "stdout",
     "output_type": "stream",
     "text": [
      "what is your guess: 12\n",
      "COLD!\n",
      "what is your guess: 1\n",
      "WARM!\n",
      "You guessed the number 1. It took you 2 guesses\n"
     ]
    }
   ],
   "source": [
    "from random import randint\n",
    "random_num = randint(1, 100)\n",
    "num = 0\n",
    "my_list=[]\n",
    "\n",
    "while num != random_num:\n",
    "    num = int(input('what is your guess: '))\n",
    "    if (num < 0 or num > 100): \n",
    "        print('OUT OF BOUNDS')\n",
    "    elif (abs(num-random_num) <= 10):\n",
    "        print('WARM!')\n",
    "    else:\n",
    "        print('COLD!')\n",
    "    my_list.append(num)\n",
    "    \n",
    "print (f'You guessed the number {random_num}. It took you {len(my_list)} guesses')"
   ]
  },
  {
   "cell_type": "markdown",
   "metadata": {},
   "source": []
  }
 ],
 "metadata": {
  "kernelspec": {
   "display_name": "Python 3",
   "language": "python",
   "name": "python3"
  },
  "language_info": {
   "codemirror_mode": {
    "name": "ipython",
    "version": 3
   },
   "file_extension": ".py",
   "mimetype": "text/x-python",
   "name": "python",
   "nbconvert_exporter": "python",
   "pygments_lexer": "ipython3",
   "version": "3.7.4"
  }
 },
 "nbformat": 4,
 "nbformat_minor": 2
}
